{
 "cells": [
  {
   "cell_type": "markdown",
   "metadata": {
    "id": "W4ZWEenOCb54"
   },
   "source": [
    "#**Création d'un modèle pour la suggestion de livres à l'utilisateur**\n",
    "![logo.png](data:image/png;base64,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)\n",
    "\n",
    "\n",
    "\n",
    "\n",
    "\n",
    "\n",
    "\n",
    "\n"
   ]
  },
  {
   "cell_type": "markdown",
   "metadata": {
    "id": "AR8vsBq0Eyly"
   },
   "source": [
    "# **Import des données depuis BigQuery**\n",
    "\n"
   ]
  },
  {
   "cell_type": "markdown",
   "metadata": {
    "id": "0MMP1DPqC3rh"
   },
   "source": [
    "###**Upload du fichier credentials de BiqQuery**\n",
    "\n",
    "\n",
    "---\n",
    "\n",
    "\n",
    "Dans ce notebook, nous utilisons les données analytiques de BigQuery pour générer des données d'entraînement pour notre modèle de recommandations. Pour accéder aux données BigQuery à partir du notebook Colab, vous devez télécharger le fichier de compte de service. (\"[ici](https://console.cloud.google.com/iam-admin/iam?authuser=2&project=book-app-7f51e)\"). Cependant, par faute de données suffisament importante, nous allons tout d'abord entrainer notre modèle depuis un jeu de données plus conséquent, récupéré depuis Kaggle. \n",
    "\n"
   ]
  },
  {
   "cell_type": "code",
   "execution_count": 1,
   "metadata": {
    "colab": {
     "base_uri": "https://localhost:8080/",
     "height": 72,
     "resources": {
      "http://localhost:8080/nbextensions/google.colab/files.js": {
       "data": "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",
       "headers": [
        [
         "content-type",
         "application/javascript"
        ]
       ],
       "ok": true,
       "status": 200,
       "status_text": ""
      }
     }
    },
    "id": "1TAy7EbEqHiW",
    "outputId": "cca3fe1f-bb52-4c0a-ae1a-cecfb16a4f30"
   },
   "outputs": [
    {
     "ename": "ModuleNotFoundError",
     "evalue": "No module named 'google.colab'",
     "output_type": "error",
     "traceback": [
      "\u001b[0;31m---------------------------------------------------------------------------\u001b[0m",
      "\u001b[0;31mModuleNotFoundError\u001b[0m                       Traceback (most recent call last)",
      "\u001b[0;32m<ipython-input-1-5921276b5e39>\u001b[0m in \u001b[0;36m<module>\u001b[0;34m\u001b[0m\n\u001b[1;32m      1\u001b[0m \u001b[0;32mimport\u001b[0m \u001b[0mos\u001b[0m\u001b[0;34m\u001b[0m\u001b[0;34m\u001b[0m\u001b[0m\n\u001b[0;32m----> 2\u001b[0;31m \u001b[0;32mfrom\u001b[0m \u001b[0mgoogle\u001b[0m\u001b[0;34m.\u001b[0m\u001b[0mcolab\u001b[0m \u001b[0;32mimport\u001b[0m \u001b[0mfiles\u001b[0m\u001b[0;34m\u001b[0m\u001b[0;34m\u001b[0m\u001b[0m\n\u001b[0m\u001b[1;32m      3\u001b[0m \u001b[0;34m\u001b[0m\u001b[0m\n\u001b[1;32m      4\u001b[0m \u001b[0muploaded\u001b[0m \u001b[0;34m=\u001b[0m \u001b[0mfiles\u001b[0m\u001b[0;34m.\u001b[0m\u001b[0mupload\u001b[0m\u001b[0;34m(\u001b[0m\u001b[0;34m)\u001b[0m\u001b[0;34m\u001b[0m\u001b[0;34m\u001b[0m\u001b[0m\n\u001b[1;32m      5\u001b[0m \u001b[0;34m\u001b[0m\u001b[0m\n",
      "\u001b[0;31mModuleNotFoundError\u001b[0m: No module named 'google.colab'"
     ]
    }
   ],
   "source": [
    "import os\n",
    "from google.colab import files\n",
    "\n",
    "uploaded = files.upload()\n",
    "\n",
    "for fn in uploaded.keys():\n",
    "\n",
    "  with open('/content/' + fn, 'wb') as f:\n",
    "    f.write(uploaded[fn])\n",
    "  os.environ[\"GOOGLE_APPLICATION_CREDENTIALS\"]='/content/' + fn\n",
    "  projectID = fn.rsplit(\"-\", 1)[0]"
   ]
  },
  {
   "cell_type": "markdown",
   "metadata": {
    "id": "tJ6wgqkoE48Y"
   },
   "source": [
    "##Import des données analytics \n",
    "\n",
    "---\n",
    "\n",
    "\n",
    "\n",
    "Importation des données d'analyse de l'appl depuis BigQuery\n",
    "Dans cette étape, nous allons charger les données analytiques que nous avons collectées dans l'application avec Firebase Analytics et envoyées à BigQuery. Nous chargerons les données dans la bibliothèque de traitement de données pandas. Les données possèdent déjà le bon format. "
   ]
  },
  {
   "cell_type": "code",
   "execution_count": null,
   "metadata": {
    "id": "AHWzyp1hqgHU"
   },
   "outputs": [],
   "source": [
    "%load_ext google.cloud.bigquery"
   ]
  },
  {
   "cell_type": "markdown",
   "metadata": {
    "id": "gUlceOLfHMqH"
   },
   "source": [
    "Nous utilisons la reqête SQL suivante pour obtenir les éléments de la table que nous avons créée dans BigQuery. Firebase Analytics exporte de nombreuses informations supplémentaires, telles que le type d'appareil, la version de la plateforme, etc. dont nous n'avons pas besoin pour former ce modèle. Pour palier à ce problème, nous traitons les données envoyées par analytics au préalable par un serveur nodeJS."
   ]
  },
  {
   "cell_type": "code",
   "execution_count": null,
   "metadata": {
    "id": "dNnXwjKvqpol"
   },
   "outputs": [],
   "source": [
    "%%bigquery analytics_test_import\n",
    "SELECT\n",
    "    *\n",
    "FROM `book-app-7f51e.ml_alldata_app.all_data`"
   ]
  },
  {
   "cell_type": "markdown",
   "metadata": {
    "id": "M4cGZRbiIiIF"
   },
   "source": [
    "On test notre requête SQL pour vérifier que l'on obtient bien nos données sous le bon format."
   ]
  },
  {
   "cell_type": "code",
   "execution_count": null,
   "metadata": {
    "id": "mzfS9w-Yqpq1"
   },
   "outputs": [],
   "source": [
    "analytics_test_import"
   ]
  },
  {
   "cell_type": "code",
   "execution_count": null,
   "metadata": {
    "id": "lXPoRDxGqpvd"
   },
   "outputs": [],
   "source": [
    "analytics_test_import.columns"
   ]
  },
  {
   "cell_type": "markdown",
   "metadata": {
    "id": "jF1povc9I8qM"
   },
   "source": [
    "On sélectionne les colonnes qui nous intéressent. Dans notre cas nous avons besoin de l'identifiant de l'utilisateur, l'identifiant du livre et la catégorie."
   ]
  },
  {
   "cell_type": "code",
   "execution_count": null,
   "metadata": {
    "id": "BMGRNclGqpxi"
   },
   "outputs": [],
   "source": [
    "%%bigquery analytics_data_real\n",
    "SELECT\n",
    "    user_id,book_id,category\n",
    "FROM `book-app-7f51e.ml_alldata_app.all_data`"
   ]
  },
  {
   "cell_type": "markdown",
   "metadata": {
    "id": "3E8RorTwJqjX"
   },
   "source": [
    "On sauvegarde nos données dans la variable **analytics**.\n",
    "\n"
   ]
  },
  {
   "cell_type": "code",
   "execution_count": null,
   "metadata": {
    "id": "0c539CzYqp1-"
   },
   "outputs": [],
   "source": [
    "analytics = analytics_data_real\n",
    "analytics"
   ]
  },
  {
   "cell_type": "code",
   "execution_count": null,
   "metadata": {
    "id": "MGq30CgCCOlk"
   },
   "outputs": [],
   "source": [
    "from google.colab import drive\n",
    "drive.mount('/content/drive')"
   ]
  },
  {
   "cell_type": "markdown",
   "metadata": {
    "id": "N-SFtputKJth"
   },
   "source": [
    "#**Import des données depuis Kaggle**"
   ]
  },
  {
   "cell_type": "markdown",
   "metadata": {
    "id": "Pts4HiL-F0rz"
   },
   "source": [
    "###Import et traitement des données depuis le jeu de données Kaggle\n",
    "\n",
    "Ici nous importons les différents .csv récupérés depuis Kaggle ([ici](https://www.kaggle.com/zygmunt/goodbooks-10k)) afin de créer le modèle.\n",
    "L'ensemble de données contient environ dix mille livres et un million d'évaluations données par des utilisateurs. Il s'agit d'un jeu de données riche qui peut nous être utile pour ce projet. Pour cela, on upload chaque csv à la racine de notre projet. "
   ]
  },
  {
   "cell_type": "code",
   "execution_count": null,
   "metadata": {
    "id": "XTBRY82pr5BG"
   },
   "outputs": [],
   "source": [
    "import os\n",
    "from google.colab import files\n",
    "\n",
    "uploaded = files.upload()\n",
    "\n",
    "for fn in uploaded.keys():\n",
    "  print('User uploaded file \"{name}\" with length {length} bytes'.format(\n",
    "      name=fn, length=len(uploaded[fn])))\n",
    "  with open('/content/' + fn, 'wb') as f:\n",
    "    f.write(uploaded[fn])\n"
   ]
  },
  {
   "cell_type": "markdown",
   "metadata": {
    "id": "6Na2O0osCeW5"
   },
   "source": [
    "Ensuite, faisons l'import de toutes les librairies que l'on utilisera au cours de cet apprentissage. Nous importons tout d'abord :  \n",
    "\n",
    "1.   ***numpy***, qui permet d’effectuer des calculs numériques. Elle introduit une gestion facilitée des tableaux de nombres.\n",
    "\n",
    "2.   ***pandas*** permet de manipuler facilement des données à analyser, notamment avec la création de dataframes. \n",
    "\n",
    "3. ***pyplot*** permet de schématiser nos données sous forme de graphs. \n",
    "\n",
    "4. ***os*** permet d'accéder au système d'exploitation et ainsi à notre arborescence. \n",
    "\n",
    "5. ***warnings*** On l'utilise afin d'ignorer les warning que l'on génerera, ce qui rendra la lecture des résultats plus lisible.\n",
    "\n",
    "6. ***tensorflow.keras*** Une api tensorflow basée sur un réseau de neuronnes, permettant de créer et entraîner des modèles de données. \n"
   ]
  },
  {
   "cell_type": "code",
   "execution_count": 5,
   "metadata": {
    "id": "VhSgp1GLqp36"
   },
   "outputs": [],
   "source": [
    "import numpy as np\n",
    "import pandas as pd\n",
    "import matplotlib.pyplot as plt\n",
    "import os\n",
    "import warnings\n",
    "\n",
    "warnings.filterwarnings('ignore')\n",
    "%matplotlib inline\n",
    "\n",
    "import tensorflow.keras as tf"
   ]
  },
  {
   "cell_type": "markdown",
   "metadata": {
    "id": "eXuEhS-NFSjm"
   },
   "source": [
    "Tout d'abord, nous extrayons les données des fichiers .csv. "
   ]
  },
  {
   "cell_type": "code",
   "execution_count": null,
   "metadata": {
    "id": "lY9kNe0fqp58"
   },
   "outputs": [],
   "source": [
    "ratings_df = pd.read_csv(\"ratings.csv\") \n",
    "books_df = pd.read_csv(\"books.csv\")\n",
    "ratings_df.head()"
   ]
  },
  {
   "cell_type": "code",
   "execution_count": null,
   "metadata": {
    "id": "WqLFXrc3qp8B"
   },
   "outputs": [],
   "source": [
    "books_df.head()\n"
   ]
  },
  {
   "cell_type": "code",
   "execution_count": null,
   "metadata": {
    "id": "-WfuXzGOsvAp"
   },
   "outputs": [],
   "source": [
    "print(ratings_df.shape)\n",
    "print(ratings_df.user_id.nunique())\n",
    "print(ratings_df.book_id.nunique())\n",
    "ratings_df.isna().sum() #Check si le dataframe est entier et ne contient pas de faux livre avec des infos manquantes."
   ]
  },
  {
   "cell_type": "markdown",
   "metadata": {
    "id": "yd2Uo33dHbm_"
   },
   "source": [
    "Comme nous pouvons le voir dans le résultat **ci-dessus**, il y a plus de 900 000 évaluations de livres données par 53 424 utilisateurs pour environ 10 000 livres. Chaque utilisateur a donc évalué plusieurs livres. "
   ]
  },
  {
   "cell_type": "markdown",
   "metadata": {
    "id": "6MFLB6ZZJFT4"
   },
   "source": [
    "Ici on **split** notre dataframe pour en faire deux jeux : un de test et un d'apprentissage. On prend 30% des 900000 évaluations pour notre jeu de test. "
   ]
  },
  {
   "cell_type": "code",
   "execution_count": null,
   "metadata": {
    "id": "DwxxvoOOsvDY"
   },
   "outputs": [],
   "source": [
    "from sklearn.model_selection import train_test_split\n",
    "Xtrain, Xtest = train_test_split(ratings_df, test_size=0.3, random_state=1)\n",
    "print(f\"Shape of train data: {Xtrain.shape}\")\n",
    "print(f\"Shape of test data: {Xtest.shape}\")"
   ]
  },
  {
   "cell_type": "markdown",
   "metadata": {
    "id": "UAZvjKv3J6Hq"
   },
   "source": [
    "#**Création du modèle de recommendation**"
   ]
  },
  {
   "cell_type": "markdown",
   "metadata": {
    "id": "N1i-boUGK04x"
   },
   "source": [
    "Créons notre modèle de recommendation en utilisant l'API Keras. Tout d'abord on récupère le nombre de livres dont l'**id** existe et le nombre d'utilisateurs dont l'**id** est non nul. \n",
    "\n",
    "\n",
    "\n",
    "---\n",
    "\n",
    "Nous créons une couche d'entrée pour accepter un tableau d'identifiants de livres, puis nous créons une couche d'intégration avec une forme de (nombre de livres uniques + 1, 15). Nous ajoutons 1 au nombre de livres uniques car les couches d'intégration ont besoin d'une ligne supplémentaire pour les livres qui n'apparaissent pas dans l'ensemble de données d'apprentissage. Ceci peut être appelé les entités hors vocabulaire.\n",
    "La deuxième dimension est une dimension arbitraire que nous avons choisie. Il peut s'agir d'un nombre quelconque en fonction de la taille de la couche d'intégration que nous souhaitons.\n",
    "\n",
    "Dans les trois lignes de code suivantes, nous faisons la même chose que pour les livres, mais cette fois pour les utilisateurs.\n",
    "Dans la ligne de concaténation, nous concaténons ou joignons simplement les couches de livres et d'intégration des utilisateurs, puis nous ajoutons une seule couche dense de 128 nœuds. Pour la dernière couche du réseau, nous utilisons un seul nœud, car nous prédisons les notes données à chaque livre, ce qui ne nécessite qu'un seul nœud.\n",
    "Dans la dernière ligne de code, nous utilisons la classe tf.Model pour créer un modèle unique à partir de notre architecture définie. Ce modèle attend deux tableaux d'entrée (livres et utilisateurs).\n",
    "\n"
   ]
  },
  {
   "cell_type": "code",
   "execution_count": null,
   "metadata": {
    "id": "8FI6arW4svGQ"
   },
   "outputs": [],
   "source": [
    "#Get the number of unique entities in books and users columns\n",
    "nbook_id = ratings_df.book_id.nunique()\n",
    "nuser_id = ratings_df.user_id.nunique()\n",
    "print(nbook_id)\n",
    "print(nuser_id)\n",
    "\n",
    "#Book input network\n",
    "input_books = tf.layers.Input(shape=[1])\n",
    "embed_books = tf.layers.Embedding(nbook_id + 1,15)(input_books)\n",
    "books_out = tf.layers.Flatten()(embed_books)\n",
    "\n",
    "#user input network\n",
    "input_users = tf.layers.Input(shape=[1])\n",
    "embed_users = tf.layers.Embedding(nuser_id + 1,15)(input_users)\n",
    "users_out = tf.layers.Flatten()(embed_users)\n",
    "\n",
    "conc_layer = tf.layers.Concatenate()([books_out, users_out])\n",
    "x = tf.layers.Dense(128, activation='relu')(conc_layer)\n",
    "x_out = x = tf.layers.Dense(1, activation='relu')(x)\n",
    "model = tf.Model([input_books, input_users], x_out)"
   ]
  },
  {
   "cell_type": "markdown",
   "metadata": {
    "id": "-JuEvJe-NPIt"
   },
   "source": [
    "On lance notre réseau de neuronne en utilisant les hyperparamètres. Il faudra faire plusieurs tests avant de choisir des paramètres optimisés. "
   ]
  },
  {
   "cell_type": "code",
   "execution_count": null,
   "metadata": {
    "id": "aqKb3qeusvIT"
   },
   "outputs": [],
   "source": [
    "opt = tf.optimizers.Adam(learning_rate=0.001)\n",
    "model.compile(optimizer=opt, loss='mean_squared_error')\n",
    "model.summary()"
   ]
  },
  {
   "cell_type": "markdown",
   "metadata": {
    "id": "GFJjGNS4U-ti"
   },
   "source": [
    "On lance ensuite le **fit** sur le modeèle. La fonction fit attend deux tableaux en entrée. Nous passons donc une liste de livres et d'identifiants d'utilisateurs, ainsi que les évaluations comme cible. "
   ]
  },
  {
   "cell_type": "code",
   "execution_count": null,
   "metadata": {
    "id": "RgAYoUn0tNBB"
   },
   "outputs": [],
   "source": [
    "hist = model.fit([Xtrain.book_id, Xtrain.user_id], Xtrain.rating, \n",
    "                 batch_size=64, \n",
    "                 epochs=5, \n",
    "                 verbose=1,\n",
    "                 validation_data=([Xtest.book_id, Xtest.user_id], Xtest.rating))"
   ]
  },
  {
   "cell_type": "markdown",
   "metadata": {
    "id": "pyWT37aiWEt8"
   },
   "source": [
    "On lance un plot pour voir si le fit nous sort bien un modèle qui a bien appris.\n"
   ]
  },
  {
   "cell_type": "code",
   "execution_count": null,
   "metadata": {
    "id": "8RG5EmejtNll"
   },
   "outputs": [],
   "source": [
    "train_loss = hist.history['loss']\n",
    "val_loss = hist.history['val_loss']\n",
    "plt.plot(train_loss, color='r', label='Train Loss')\n",
    "plt.plot(val_loss, color='b', label='Validation Loss')\n",
    "plt.title(\"Train and Validation Loss Curve\")\n",
    "plt.legend()\n",
    "plt.show()"
   ]
  },
  {
   "cell_type": "code",
   "execution_count": null,
   "metadata": {
    "id": "9TmX9vA8tNoA"
   },
   "outputs": [],
   "source": [
    "#save the model\n",
    "model.save('model')"
   ]
  },
  {
   "cell_type": "markdown",
   "metadata": {
    "id": "_TlEd4L0YDJb"
   },
   "source": [
    "Afin de faire des recommandations, nous devons transmettre la liste des livres et un utilisateur au modèle. Le modèle fera ensuite une prédiction d'une note qu'il pense que l'utilisateur donnera aux livres.\n",
    "Ces notes sont ensuite triées par ordre de grandeur croissant."
   ]
  },
  {
   "cell_type": "code",
   "execution_count": null,
   "metadata": {
    "id": "VASLH0Y_tl4D"
   },
   "outputs": [],
   "source": [
    "#Making recommendations for user 100\n",
    "book_arr = np.array(b_id) #get all book IDs\n",
    "user = np.array([100 for i in range(len(b_id))])\n",
    "pred = model.predict([book_arr, user])\n",
    "pred"
   ]
  },
  {
   "cell_type": "markdown",
   "metadata": {
    "id": "GK741Z2vaT5O"
   },
   "source": [
    "Dans la cellule de code ci-dessus, nous obtenons d'abord tous les identifiants de livres et les enregistrons dans un tableau. \n",
    "\n",
    "Ensuite, nous créons un autre tableau de la même longueur que le tableau book, mais avec le même ID utilisateur tout au long. Ensuite, nous le transmettons au modèle, qui attend deux entrées (Books et User). Le tableau renvoyé est une liste d'évaluations prévues pour chaque livre.\n",
    "Ensuite, nous allons trier le tableau et récupérer l'index des 5 plus élevés. Avec cet index, nous pouvons récupérer les livres correspondants du jeu de données :"
   ]
  },
  {
   "cell_type": "code",
   "execution_count": null,
   "metadata": {
    "id": "O9Ftc2fSto97"
   },
   "outputs": [],
   "source": [
    "pred = pred.reshape(-1) #reshape to single dimension\n",
    "pred_ids = (-pred).argsort()[0:5]\n",
    "pred_ids"
   ]
  },
  {
   "cell_type": "markdown",
   "metadata": {
    "id": "ki6keA4Aagof"
   },
   "source": [
    "Enfin, nous utiliserons l'index ( pred_ids) pour récupérer les livres correspondants à partir du DataFrame books.csv :"
   ]
  },
  {
   "cell_type": "code",
   "execution_count": null,
   "metadata": {
    "id": "FWcroZS2tr6n"
   },
   "outputs": [],
   "source": [
    "books_df.iloc[pred_ids]"
   ]
  },
  {
   "cell_type": "markdown",
   "metadata": {
    "id": "KWOBbwTNbNan"
   },
   "source": [
    "On sauvegarde les données sous un format json."
   ]
  },
  {
   "cell_type": "code",
   "execution_count": null,
   "metadata": {
    "id": "9qhtoFbXtwzd"
   },
   "outputs": [],
   "source": [
    "web_book_data = books_df[[\"book_id\", \"title\", \"image_url\", \"authors\"]]\n",
    "web_book_data = web_book_data.sort_values('book_id')\n",
    "web_book_data.head()"
   ]
  },
  {
   "cell_type": "markdown",
   "metadata": {
    "id": "noZcUmDYa0z_"
   },
   "source": [
    "Ensuite, nous pouvons l'exporter au format JSON en utilisant la to_jsonfonction dans Pandas."
   ]
  },
  {
   "cell_type": "code",
   "execution_count": 26,
   "metadata": {
    "id": "RjrSxoMqt2N0"
   },
   "outputs": [],
   "source": [
    "web_book_data.to_json(r'web_book_data.json', orient='records')"
   ]
  },
  {
   "cell_type": "markdown",
   "metadata": {
    "id": "bu2iU9THbury"
   },
   "source": [
    "On convertit notre **modèle keras** précedemment créer en un modèle de recommendation javascript. On utilisera ce modèle pour l'utiliser dans notre API Cloud functions en nodeJS."
   ]
  },
  {
   "cell_type": "code",
   "execution_count": null,
   "metadata": {
    "id": "b3bBXJNqGHzo"
   },
   "outputs": [],
   "source": [
    "!pip install tensorflowjs\n",
    "!pip install PyInquirer==1.0.3\n",
    "!tensorflowjs_converter \\\n",
    "    --input_format=keras_saved_model \\\n",
    "    model \\\n",
    "    model_js"
   ]
  },
  {
   "cell_type": "markdown",
   "metadata": {
    "id": "nSR1vkHHcVUY"
   },
   "source": [
    "#**Export vers le bucket Storage de nos fichiers**"
   ]
  },
  {
   "cell_type": "code",
   "execution_count": null,
   "metadata": {
    "id": "oOMewABBcfns"
   },
   "outputs": [],
   "source": [
    "On initialise notre bucket Storage avec notre identifiant de projet."
   ]
  },
  {
   "cell_type": "code",
   "execution_count": null,
   "metadata": {
    "id": "f2rUX1wS9pf7"
   },
   "outputs": [],
   "source": [
    "import firebase_admin\n",
    "\n",
    "firebase_admin.initialize_app(options={'projectId': 'book-app-7f51e', \n",
    "             'storageBucket': 'book-app-7f51e' + '.appspot.com' })"
   ]
  },
  {
   "cell_type": "markdown",
   "metadata": {
    "id": "P_vtbBnxcpjD"
   },
   "source": [
    "On sauvegarde les modèles précedemment crés dans firebase pour y accéder ensuite depuis l'API REST. "
   ]
  },
  {
   "cell_type": "code",
   "execution_count": 41,
   "metadata": {
    "id": "uXZyYPWsIx4n"
   },
   "outputs": [],
   "source": [
    "from firebase_admin import storage\n",
    "\n",
    "bucketName = \"gs://book-app-7f51e.appspot.com/ml_data\"\n",
    "bucket = storage.bucket()\n",
    "\n",
    "blob_json = bucket.blob('ml_data/model_js/model.json')\n",
    "blob_bin = bucket.blob('ml_data/model_js/group1-shard1of1.bin')\n",
    "blob_dataset = bucket.blob('ml_data/model_js/web_book_data.json')\n",
    "\n",
    "output_model = '/content/model_js/model.json'\n",
    "output_bin = '/content/model_js/group1-shard1of1.bin'\n",
    "output_dataset = '/content/web_book_data.json'\n",
    "\n",
    "with open(output_model, 'rb') as my_file:\n",
    "    blob_json.upload_from_file(my_file)\n",
    "\n",
    "with open(output_bin, 'rb') as my_file:\n",
    "    blob_bin.upload_from_file(my_file)\n",
    "\n",
    "with open(output_dataset, 'rb') as my_file:\n",
    "    blob_da.upload_from_file(my_file)\n",
    "\n"
   ]
  },
  {
   "cell_type": "markdown",
   "metadata": {
    "id": "O233mGZwcLR7"
   },
   "source": [
    "#Export vers un fichier tflite (Non utilisée)"
   ]
  },
  {
   "cell_type": "code",
   "execution_count": null,
   "metadata": {
    "id": "GDZ7Hd8Y4Z0I"
   },
   "outputs": [],
   "source": [
    "import tensorflow as tf\n",
    "\n",
    "# Convert the model\n",
    "saved_model_dir = \"/content/model/\"\n",
    "# path to the SavedModel directory\n",
    "converter = tf.lite.TFLiteConverter.from_saved_model(saved_model_dir)\n",
    "tflite_model = converter.convert()\n",
    "\n",
    "# Save the model.\n",
    "with open('model/model.tflite', 'wb') as f:\n",
    "  f.write(tflite_model)"
   ]
  },
  {
   "cell_type": "code",
   "execution_count": null,
   "metadata": {
    "id": "Ye1_llkm-OwX"
   },
   "outputs": [],
   "source": [
    "from firebase_admin import ml\n",
    "\n",
    "# This uploads it to your bucket as recommendation.tflite\n",
    "source = ml.TFLiteGCSModelSource.from_saved_model('/content/model/')\n",
    "print (source.gcs_tflite_uri)"
   ]
  },
  {
   "cell_type": "code",
   "execution_count": null,
   "metadata": {
    "id": "nYtdi4OD-Oz0"
   },
   "outputs": [],
   "source": [
    "# Create a Model Format\n",
    "model_format = ml.TFLiteFormat(model_source=source)\n",
    "\n",
    "# Create a Model object\n",
    "sdk_model_1 = ml.Model(display_name=\"recommendations_book_worm\", model_format=model_format)\n",
    "\n",
    "# Make the Create API call to create the model in Firebase\n",
    "firebase_model_1 = ml.create_model(sdk_model_1)\n",
    "print(firebase_model_1.as_dict())\n",
    "\n",
    "# Publish the model\n",
    "model_id = firebase_model_1.model_id\n",
    "firebase_model_1 = ml.publish_model(model_id)"
   ]
  }
 ],
 "metadata": {
  "colab": {
   "collapsed_sections": [
    "0MMP1DPqC3rh"
   ],
   "name": "BookWorm-PA",
   "provenance": []
  },
  "kernelspec": {
   "display_name": "Python 3",
   "language": "python",
   "name": "python3"
  },
  "language_info": {
   "codemirror_mode": {
    "name": "ipython",
    "version": 3
   },
   "file_extension": ".py",
   "mimetype": "text/x-python",
   "name": "python",
   "nbconvert_exporter": "python",
   "pygments_lexer": "ipython3",
   "version": "3.8.8"
  }
 },
 "nbformat": 4,
 "nbformat_minor": 1
}
